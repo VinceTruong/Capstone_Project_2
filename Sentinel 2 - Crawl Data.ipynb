{
 "cells": [
  {
   "cell_type": "markdown",
   "metadata": {
    "tags": []
   },
   "source": [
    "## 2023 Open Science Data Challenge - Sentinel-2 Phenology with Cloud Filtering\n",
    "\n",
    "This notebook calculates vegetation phenology using Sentinel-2 data with cloud filtering. This pixel-based approach is better than a scene-based approach since clouds are quite random for any given time and location. To address phenology, the algorithm uses the Normalized Difference Vegetation Index (NDVI) which is a common proxy for vegetation growth and health. The outputs of this notebook can be used to assess differences in agriculture fields over time or space and also allow the assessment of growing states such as planting and harvesting. The baseline data is [Sentinel-2 Level-2A](https://planetarycomputer.microsoft.com/dataset/sentinel-2-l2a) data from the MS Planetary Computer catalog."
   ]
  },
  {
   "cell_type": "code",
   "execution_count": 1,
   "metadata": {},
   "outputs": [],
   "source": [
    "# Supress Warnings \n",
    "import warnings\n",
    "warnings.filterwarnings('ignore')\n",
    "\n",
    "# Import common GIS tools\n",
    "import numpy as np\n",
    "import pandas as pd\n",
    "import xarray as xr\n",
    "import matplotlib.pyplot as plt\n",
    "import rasterio.features\n",
    "import rioxarray as rio\n",
    "import xrspatial.multispectral as ms\n",
    "\n",
    "# Import Planetary Computer tools\n",
    "import pystac_client\n",
    "import planetary_computer as pc\n",
    "import odc\n",
    "from odc.stac import stac_load\n",
    "from odc.algo import to_rgba\n",
    "\n",
    "\n",
    "from tqdm import tqdm\n",
    "tqdm.pandas()"
   ]
  },
  {
   "cell_type": "markdown",
   "metadata": {},
   "source": [
    "### Load the satellite data\n",
    "\n",
    "First, we define our area of interest using latitude and longitude coordinates of the centroid. Then we define the size of the surrounding bounding box (in degrees). GeoJSON format uses a specific order: (longitude, latitude), so be careful when entering the coordinates. Finally, we define the time window consistent with a typical rice growing season."
   ]
  },
  {
   "cell_type": "code",
   "execution_count": 2,
   "metadata": {},
   "outputs": [
    {
     "data": {
      "text/html": [
       "<div>\n",
       "<style scoped>\n",
       "    .dataframe tbody tr th:only-of-type {\n",
       "        vertical-align: middle;\n",
       "    }\n",
       "\n",
       "    .dataframe tbody tr th {\n",
       "        vertical-align: top;\n",
       "    }\n",
       "\n",
       "    .dataframe thead th {\n",
       "        text-align: right;\n",
       "    }\n",
       "</style>\n",
       "<table border=\"1\" class=\"dataframe\">\n",
       "  <thead>\n",
       "    <tr style=\"text-align: right;\">\n",
       "      <th></th>\n",
       "      <th>Latitude and Longitude</th>\n",
       "      <th>Class of Land</th>\n",
       "    </tr>\n",
       "  </thead>\n",
       "  <tbody>\n",
       "    <tr>\n",
       "      <th>0</th>\n",
       "      <td>(10.323727047081501, 105.2516346045924)</td>\n",
       "      <td>Rice</td>\n",
       "    </tr>\n",
       "    <tr>\n",
       "      <th>1</th>\n",
       "      <td>(10.322364360592521, 105.27843410554115)</td>\n",
       "      <td>Rice</td>\n",
       "    </tr>\n",
       "    <tr>\n",
       "      <th>2</th>\n",
       "      <td>(10.321455902933202, 105.25254306225168)</td>\n",
       "      <td>Rice</td>\n",
       "    </tr>\n",
       "    <tr>\n",
       "      <th>3</th>\n",
       "      <td>(10.324181275911162, 105.25118037576274)</td>\n",
       "      <td>Rice</td>\n",
       "    </tr>\n",
       "    <tr>\n",
       "      <th>4</th>\n",
       "      <td>(10.324635504740822, 105.27389181724476)</td>\n",
       "      <td>Rice</td>\n",
       "    </tr>\n",
       "  </tbody>\n",
       "</table>\n",
       "</div>"
      ],
      "text/plain": [
       "                     Latitude and Longitude Class of Land\n",
       "0   (10.323727047081501, 105.2516346045924)          Rice\n",
       "1  (10.322364360592521, 105.27843410554115)          Rice\n",
       "2  (10.321455902933202, 105.25254306225168)          Rice\n",
       "3  (10.324181275911162, 105.25118037576274)          Rice\n",
       "4  (10.324635504740822, 105.27389181724476)          Rice"
      ]
     },
     "execution_count": 2,
     "metadata": {},
     "output_type": "execute_result"
    }
   ],
   "source": [
    "crop_presence_data = pd.read_csv(\"Crop_Location_Data_20221201.csv\")\n",
    "crop_presence_data.head()"
   ]
  },
  {
   "cell_type": "code",
   "execution_count": 3,
   "metadata": {},
   "outputs": [],
   "source": [
    "def bounding_box(lat_long):\n",
    "    box_size_deg = 0.10 \n",
    "\n",
    "    min_lon = lat_long[1]-box_size_deg/2\n",
    "    min_lat = lat_long[0]-box_size_deg/2\n",
    "    max_lon = lat_long[1]+box_size_deg/2\n",
    "    max_lat = lat_long[0]+box_size_deg/2\n",
    "\n",
    "    bbox = (min_lon, min_lat, max_lon, max_lat)\n",
    "    return bbox"
   ]
  },
  {
   "cell_type": "code",
   "execution_count": 4,
   "metadata": {},
   "outputs": [],
   "source": [
    "def unfiltered_DataFrame(latlong, xx):\n",
    "    xx = xx.mean(dim=['latitude','longitude']).compute()\n",
    "    n = len(xx['red'])\n",
    "\n",
    "    time = xx.coords['time'].values\n",
    "    red = xx['red'].values.tolist()\n",
    "    green = xx['green'].values.tolist()\n",
    "    blue = xx['blue'].values.tolist()\n",
    "    nir = xx['nir'].values.tolist()\n",
    "\n",
    "    df = pd.DataFrame(data=list(zip([latlong]*n, time, red, green, blue, nir)), columns=['Latitude and Longitude', 'time', 'red_o', 'green_o', 'blue_o', 'nir_o'])\n",
    "    return df"
   ]
  },
  {
   "cell_type": "code",
   "execution_count": 5,
   "metadata": {},
   "outputs": [],
   "source": [
    "def filtered_DataFrame(latlong, xx):\n",
    "    cloud_mask = (xx.SCL != 0) & (xx.SCL != 1) & (xx.SCL != 3) & (xx.SCL != 6) & (xx.SCL != 8) & (xx.SCL != 9) & (xx.SCL != 10) \n",
    "    xx = xx.where(cloud_mask).astype(\"uint16\")\n",
    "    \n",
    "    xx = xx.mean(dim=['latitude','longitude']).compute()\n",
    "    n = len(xx['red'])\n",
    "\n",
    "    time = xx.coords['time'].values\n",
    "    red = xx['red'].values.tolist()\n",
    "    green = xx['green'].values.tolist()\n",
    "    blue = xx['blue'].values.tolist()\n",
    "    nir = xx['nir'].values.tolist()\n",
    "\n",
    "    df = pd.DataFrame(data=list(zip([latlong]*n, time, red, green, blue, nir)), columns=['Latitude and Longitude', 'time', 'red_f', 'green_f', 'blue_f', 'nir_f'])\n",
    "    return df"
   ]
  },
  {
   "cell_type": "code",
   "execution_count": 6,
   "metadata": {},
   "outputs": [],
   "source": [
    "def get_sentinel_2_data(latlong, time_slice):\n",
    "    \n",
    "    latlong_=latlong.replace('(','').replace(')','').replace(' ','').split(',')\n",
    "    latlong_ = list(map(lambda x: float(x), latlong_))\n",
    "    bbox_of_interest = bounding_box(latlong_)\n",
    "\n",
    "    stac = pystac_client.Client.open(\"https://planetarycomputer.microsoft.com/api/stac/v1\")\n",
    "    search = stac.search(collections=[\"sentinel-2-l2a\"], bbox=bbox_of_interest, datetime=time_window)\n",
    "    items = list(search.get_all_items())\n",
    "    \n",
    "    resolution = 20  # meters per pixel \n",
    "    scale = resolution / 111320.0 # degrees per pixel for CRS:4326 \n",
    "    \n",
    "    \n",
    "    xx = stac_load(\n",
    "        items,\n",
    "        bands=[\"red\", \"green\", \"blue\", \"nir\", \"SCL\"],\n",
    "        crs=\"EPSG:4326\", # Latitude-Longitude\n",
    "        resolution=scale, # Degrees\n",
    "        chunks={\"x\": 2048, \"y\": 2048},\n",
    "        dtype=\"uint16\",\n",
    "        patch_url=pc.sign,\n",
    "        bbox=bbox_of_interest\n",
    "    )\n",
    "    \n",
    "    xx_o = unfiltered_DataFrame(latlong, xx)\n",
    "    xx_f = filtered_DataFrame(latlong, xx)\n",
    "    \n",
    "    data = xx_o.merge(xx_f, on=['Latitude and Longitude', 'time'], how='inner')\n",
    "    return data"
   ]
  },
  {
   "cell_type": "code",
   "execution_count": 13,
   "metadata": {},
   "outputs": [
    {
     "name": "stderr",
     "output_type": "stream",
     "text": [
      "100%|██████████| 600/600 [3:05:13<00:00, 18.52s/it]  \n"
     ]
    }
   ],
   "source": [
    "time_window=\"2021-11-01/2022-08-31\"\n",
    "data = pd.DataFrame(columns=['Latitude and Longitude', 'time', 'red_o', 'green_o', 'blue_o', 'nir_o', 'red_f', 'green_f', 'blue_f', 'nir_f'])\n",
    "    \n",
    "for coordinates in tqdm(crop_presence_data['Latitude and Longitude']):\n",
    "    df = get_sentinel_2_data(coordinates,time_window)\n",
    "    data = pd.concat([data, df], ignore_index=True)\n",
    "    #xx = get_sentinel_2_data('(10.4391, 105.3338)',time_window)\n",
    "    "
   ]
  },
  {
   "cell_type": "code",
   "execution_count": 14,
   "metadata": {},
   "outputs": [],
   "source": [
    "data['NDVI_o'] = (data['nir_o']-data['red_o']) / (data['nir_o']+data['red_o'])\n",
    "data['NDVI_f'] = (data['nir_f']-data['red_f']) / (data['nir_f']+data['red_f'])\n",
    "\n",
    "data['EVI_o'] = 2.5 * ((data['nir_o']-data['red_o']) / (data['nir_o']+6*data['red_o']-7.5*data['blue_o']+1)) #C1=6, C2=7.5, L=1, G=2.5\n",
    "data['EVI_f'] = 2.5 * ((data['nir_f']-data['red_f']) / (data['nir_f']+6*data['red_f']-7.5*data['blue_f']+1)) #C1=6, C2=7.5, L=1, G=2.5\n",
    "\n",
    "data['SAVI_o'] = ((data['nir_o']-data['red_o']) / (data['nir_o']+data['red_o']+0.5)) * (1+0.5) #L-0.5\n",
    "data['SAVI_f'] = ((data['nir_f']-data['red_f']) / (data['nir_f']+data['red_f']+0.5)) * (1+0.5) #L-0.5"
   ]
  },
  {
   "cell_type": "code",
   "execution_count": 15,
   "metadata": {},
   "outputs": [
    {
     "data": {
      "text/plain": [
       "(33249, 16)"
      ]
     },
     "execution_count": 15,
     "metadata": {},
     "output_type": "execute_result"
    }
   ],
   "source": [
    "data.shape"
   ]
  },
  {
   "cell_type": "code",
   "execution_count": 17,
   "metadata": {},
   "outputs": [],
   "source": [
    "data = data.merge(crop_presence_data, on='Latitude and Longitude', how='inner')"
   ]
  },
  {
   "cell_type": "code",
   "execution_count": 18,
   "metadata": {},
   "outputs": [
    {
     "data": {
      "text/plain": [
       "(33249, 17)"
      ]
     },
     "execution_count": 18,
     "metadata": {},
     "output_type": "execute_result"
    }
   ],
   "source": [
    "data.shape"
   ]
  },
  {
   "cell_type": "code",
   "execution_count": 24,
   "metadata": {},
   "outputs": [],
   "source": [
    "data['time'] = pd.to_datetime(data['time']).dt.date"
   ]
  },
  {
   "cell_type": "code",
   "execution_count": 25,
   "metadata": {},
   "outputs": [
    {
     "data": {
      "text/html": [
       "<div>\n",
       "<style scoped>\n",
       "    .dataframe tbody tr th:only-of-type {\n",
       "        vertical-align: middle;\n",
       "    }\n",
       "\n",
       "    .dataframe tbody tr th {\n",
       "        vertical-align: top;\n",
       "    }\n",
       "\n",
       "    .dataframe thead th {\n",
       "        text-align: right;\n",
       "    }\n",
       "</style>\n",
       "<table border=\"1\" class=\"dataframe\">\n",
       "  <thead>\n",
       "    <tr style=\"text-align: right;\">\n",
       "      <th></th>\n",
       "      <th>Latitude and Longitude</th>\n",
       "      <th>time</th>\n",
       "      <th>red_o</th>\n",
       "      <th>green_o</th>\n",
       "      <th>blue_o</th>\n",
       "      <th>nir_o</th>\n",
       "      <th>red_f</th>\n",
       "      <th>green_f</th>\n",
       "      <th>blue_f</th>\n",
       "      <th>nir_f</th>\n",
       "      <th>NDVI_o</th>\n",
       "      <th>NDVI_f</th>\n",
       "      <th>EVI_o</th>\n",
       "      <th>EVI_f</th>\n",
       "      <th>SAVI_o</th>\n",
       "      <th>SAVI_f</th>\n",
       "      <th>Class of Land</th>\n",
       "    </tr>\n",
       "  </thead>\n",
       "  <tbody>\n",
       "    <tr>\n",
       "      <th>0</th>\n",
       "      <td>(10.323727047081501, 105.2516346045924)</td>\n",
       "      <td>2021-11-11</td>\n",
       "      <td>7819.483755</td>\n",
       "      <td>8422.723397</td>\n",
       "      <td>9346.066099</td>\n",
       "      <td>7747.999305</td>\n",
       "      <td>0.000000</td>\n",
       "      <td>0.000000</td>\n",
       "      <td>0.000000</td>\n",
       "      <td>0.000000</td>\n",
       "      <td>-0.004592</td>\n",
       "      <td>NaN</td>\n",
       "      <td>0.011582</td>\n",
       "      <td>0.000000</td>\n",
       "      <td>-0.006888</td>\n",
       "      <td>0.000000</td>\n",
       "      <td>Rice</td>\n",
       "    </tr>\n",
       "    <tr>\n",
       "      <th>1</th>\n",
       "      <td>(10.323727047081501, 105.2516346045924)</td>\n",
       "      <td>2021-11-16</td>\n",
       "      <td>7220.483762</td>\n",
       "      <td>7529.236295</td>\n",
       "      <td>8033.924712</td>\n",
       "      <td>7543.402830</td>\n",
       "      <td>0.000000</td>\n",
       "      <td>0.000000</td>\n",
       "      <td>0.000000</td>\n",
       "      <td>0.000000</td>\n",
       "      <td>0.021872</td>\n",
       "      <td>NaN</td>\n",
       "      <td>-0.086000</td>\n",
       "      <td>0.000000</td>\n",
       "      <td>0.032807</td>\n",
       "      <td>0.000000</td>\n",
       "      <td>Rice</td>\n",
       "    </tr>\n",
       "    <tr>\n",
       "      <th>2</th>\n",
       "      <td>(10.323727047081501, 105.2516346045924)</td>\n",
       "      <td>2021-11-21</td>\n",
       "      <td>785.254969</td>\n",
       "      <td>909.071122</td>\n",
       "      <td>572.435513</td>\n",
       "      <td>3076.932723</td>\n",
       "      <td>711.999028</td>\n",
       "      <td>829.774052</td>\n",
       "      <td>497.177603</td>\n",
       "      <td>2958.218390</td>\n",
       "      <td>0.593363</td>\n",
       "      <td>0.612013</td>\n",
       "      <td>1.638694</td>\n",
       "      <td>1.603352</td>\n",
       "      <td>0.889929</td>\n",
       "      <td>0.917894</td>\n",
       "      <td>Rice</td>\n",
       "    </tr>\n",
       "    <tr>\n",
       "      <th>3</th>\n",
       "      <td>(10.323727047081501, 105.2516346045924)</td>\n",
       "      <td>2021-11-26</td>\n",
       "      <td>853.906450</td>\n",
       "      <td>855.202647</td>\n",
       "      <td>474.339289</td>\n",
       "      <td>2688.530016</td>\n",
       "      <td>847.737325</td>\n",
       "      <td>849.601317</td>\n",
       "      <td>470.856904</td>\n",
       "      <td>2684.666110</td>\n",
       "      <td>0.517899</td>\n",
       "      <td>0.520022</td>\n",
       "      <td>1.077815</td>\n",
       "      <td>1.082925</td>\n",
       "      <td>0.776739</td>\n",
       "      <td>0.779923</td>\n",
       "      <td>Rice</td>\n",
       "    </tr>\n",
       "    <tr>\n",
       "      <th>4</th>\n",
       "      <td>(10.323727047081501, 105.2516346045924)</td>\n",
       "      <td>2021-12-01</td>\n",
       "      <td>5755.051453</td>\n",
       "      <td>6113.884475</td>\n",
       "      <td>6647.837294</td>\n",
       "      <td>5842.471497</td>\n",
       "      <td>0.038970</td>\n",
       "      <td>0.046164</td>\n",
       "      <td>0.057875</td>\n",
       "      <td>0.046357</td>\n",
       "      <td>0.007538</td>\n",
       "      <td>0.086576</td>\n",
       "      <td>-0.023042</td>\n",
       "      <td>0.021827</td>\n",
       "      <td>0.011306</td>\n",
       "      <td>0.018931</td>\n",
       "      <td>Rice</td>\n",
       "    </tr>\n",
       "  </tbody>\n",
       "</table>\n",
       "</div>"
      ],
      "text/plain": [
       "                    Latitude and Longitude        time        red_o  \\\n",
       "0  (10.323727047081501, 105.2516346045924)  2021-11-11  7819.483755   \n",
       "1  (10.323727047081501, 105.2516346045924)  2021-11-16  7220.483762   \n",
       "2  (10.323727047081501, 105.2516346045924)  2021-11-21   785.254969   \n",
       "3  (10.323727047081501, 105.2516346045924)  2021-11-26   853.906450   \n",
       "4  (10.323727047081501, 105.2516346045924)  2021-12-01  5755.051453   \n",
       "\n",
       "       green_o       blue_o        nir_o       red_f     green_f      blue_f  \\\n",
       "0  8422.723397  9346.066099  7747.999305    0.000000    0.000000    0.000000   \n",
       "1  7529.236295  8033.924712  7543.402830    0.000000    0.000000    0.000000   \n",
       "2   909.071122   572.435513  3076.932723  711.999028  829.774052  497.177603   \n",
       "3   855.202647   474.339289  2688.530016  847.737325  849.601317  470.856904   \n",
       "4  6113.884475  6647.837294  5842.471497    0.038970    0.046164    0.057875   \n",
       "\n",
       "         nir_f    NDVI_o    NDVI_f     EVI_o     EVI_f    SAVI_o    SAVI_f  \\\n",
       "0     0.000000 -0.004592       NaN  0.011582  0.000000 -0.006888  0.000000   \n",
       "1     0.000000  0.021872       NaN -0.086000  0.000000  0.032807  0.000000   \n",
       "2  2958.218390  0.593363  0.612013  1.638694  1.603352  0.889929  0.917894   \n",
       "3  2684.666110  0.517899  0.520022  1.077815  1.082925  0.776739  0.779923   \n",
       "4     0.046357  0.007538  0.086576 -0.023042  0.021827  0.011306  0.018931   \n",
       "\n",
       "  Class of Land  \n",
       "0          Rice  \n",
       "1          Rice  \n",
       "2          Rice  \n",
       "3          Rice  \n",
       "4          Rice  "
      ]
     },
     "execution_count": 25,
     "metadata": {},
     "output_type": "execute_result"
    }
   ],
   "source": [
    "data.head()"
   ]
  },
  {
   "cell_type": "code",
   "execution_count": 26,
   "metadata": {},
   "outputs": [],
   "source": [
    "data.to_csv('Sentinel-2-SCL.csv', index = False)"
   ]
  },
  {
   "cell_type": "code",
   "execution_count": null,
   "metadata": {},
   "outputs": [],
   "source": []
  },
  {
   "cell_type": "code",
   "execution_count": null,
   "metadata": {},
   "outputs": [],
   "source": []
  }
 ],
 "metadata": {
  "kernelspec": {
   "display_name": "Python 3 (ipykernel)",
   "language": "python",
   "name": "python3"
  },
  "language_info": {
   "codemirror_mode": {
    "name": "ipython",
    "version": 3
   },
   "file_extension": ".py",
   "mimetype": "text/x-python",
   "name": "python",
   "nbconvert_exporter": "python",
   "pygments_lexer": "ipython3",
   "version": "3.10.6"
  },
  "widgets": {
   "application/vnd.jupyter.widget-state+json": {
    "state": {
     "2ca0804b9f904dab815db80637a4f2d9": {
      "model_module": "@jupyter-widgets/base",
      "model_module_version": "1.2.0",
      "model_name": "LayoutModel",
      "state": {}
     },
     "e2f3ac516e3b4cf3a1ba1fc6aa0897ad": {
      "model_module": "@jupyter-widgets/controls",
      "model_module_version": "1.5.0",
      "model_name": "VBoxModel",
      "state": {
       "layout": "IPY_MODEL_2ca0804b9f904dab815db80637a4f2d9"
      }
     }
    },
    "version_major": 2,
    "version_minor": 0
   }
  }
 },
 "nbformat": 4,
 "nbformat_minor": 4
}
